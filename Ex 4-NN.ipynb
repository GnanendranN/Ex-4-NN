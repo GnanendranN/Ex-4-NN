{
 "cells": [
  {
   "cell_type": "code",
   "execution_count": 13,
   "metadata": {},
   "outputs": [],
   "source": [
    "#Include packages and builtin classes\n",
    "\n",
    "import pandas as pd\n",
    "import sklearn\n",
    "from sklearn import preprocessing\n",
    "from sklearn.model_selection import train_test_split\n",
    "from sklearn.preprocessing import StandardScaler\n",
    "from sklearn.neural_network import MLPClassifier\n",
    "from sklearn.metrics import classification_report, confusion_matrix"
   ]
  },
  {
   "cell_type": "code",
   "execution_count": 14,
   "metadata": {},
   "outputs": [],
   "source": [
    "#Read the csv file to be considered for Multi-classification\n",
    "\n",
    "cropdata = pd.read_csv('crop_yield.csv')\n",
    "cropdata = cropdata.dropna()"
   ]
  },
  {
   "cell_type": "code",
   "execution_count": 15,
   "metadata": {},
   "outputs": [],
   "source": [
    "# Seperate the input features and target from the dataset\n",
    "\n",
    "x = cropdata[['Crop_Year','Area','Production','Annual_Rainfall','Fertilizer','Pesticide']]\n",
    "y = cropdata['Crop']"
   ]
  },
  {
   "cell_type": "code",
   "execution_count": 16,
   "metadata": {},
   "outputs": [],
   "source": [
    "#Transform the categorial into numerical values\n",
    "\n",
    "le = preprocessing.LabelEncoder()\n",
    "y_encoded = le.fit_transform(y)"
   ]
  },
  {
   "cell_type": "code",
   "execution_count": 27,
   "metadata": {},
   "outputs": [],
   "source": [
    "#Split the data  for training  and testing\n",
    "\n",
    "x_train,x_test,y_train,y_test = train_test_split(x, y_encoded, test_size=0.25, random_state=42, stratify=y_encoded)"
   ]
  },
  {
   "cell_type": "code",
   "execution_count": 28,
   "metadata": {},
   "outputs": [],
   "source": [
    "#Normalize the input features\n",
    "\n",
    "scaler = StandardScaler()\n",
    "scaler.fit(x_train)\n",
    "x_train = scaler.transform(x_train)\n",
    "x_test = scaler.transform(x_test)"
   ]
  },
  {
   "cell_type": "code",
   "execution_count": 31,
   "metadata": {},
   "outputs": [],
   "source": [
    "#Define the MLP classifier\n",
    "\n",
    "mlp = MLPClassifier(hidden_layer_sizes=(15,15,15),max_iter=3000)"
   ]
  },
  {
   "cell_type": "code",
   "execution_count": 32,
   "metadata": {},
   "outputs": [],
   "source": [
    "#Train the classifier \n",
    "\n",
    "mlp.fit(x_train,y_train)\n",
    "\n",
    "predictions = mlp.predict(x_test)\n",
    "\n",
    "flower_predictions = le.inverse_transform(predictions)"
   ]
  },
  {
   "cell_type": "code",
   "execution_count": 33,
   "metadata": {},
   "outputs": [
    {
     "name": "stdout",
     "output_type": "stream",
     "text": [
      "[[0 0 0 ... 0 0 0]\n",
      " [1 0 0 ... 0 0 0]\n",
      " [0 0 0 ... 0 0 0]\n",
      " ...\n",
      " [0 0 0 ... 0 0 0]\n",
      " [0 1 0 ... 0 0 0]\n",
      " [0 0 0 ... 0 0 0]]\n"
     ]
    }
   ],
   "source": [
    "#  Evaluation of algorithm performance in classifying.\n",
    "print(confusion_matrix(y_test, predictions))"
   ]
  },
  {
   "cell_type": "code",
   "execution_count": 34,
   "metadata": {},
   "outputs": [
    {
     "name": "stdout",
     "output_type": "stream",
     "text": [
      "['Moong(Green Gram)' 'Arhar/Tur' 'Niger seed' 'Wheat' 'Sugarcane' 'Ragi'\n",
      " 'Tapioca' 'Sannhamp' 'Arhar/Tur' 'Onion' 'Arhar/Tur' 'Turmeric' 'Bajra'\n",
      " 'Arecanut' 'Sannhamp' 'Mesta' 'Niger seed' 'Garlic' 'Urad' 'Horse-gram'\n",
      " 'Moong(Green Gram)' 'Bajra' 'Ragi' 'Sannhamp' 'Rice' 'Niger seed'\n",
      " 'Groundnut' 'Onion' 'Black pepper' 'Arecanut' 'Arecanut' 'Rice' 'Ragi'\n",
      " 'Rice' 'Arecanut' 'Mesta' 'Rice' 'Tapioca' 'Rice' 'Arhar/Tur'\n",
      " 'Horse-gram' 'Rapeseed &Mustard' 'Onion' 'Ginger' 'Mesta' 'Rice'\n",
      " 'Coconut ' 'Onion' 'Turmeric' 'Ragi' 'Arecanut' 'Groundnut'\n",
      " 'Moong(Green Gram)' 'Arhar/Tur' 'Moong(Green Gram)' 'Rice' 'Ragi'\n",
      " 'Tapioca' 'Sannhamp' 'Niger seed' 'Arhar/Tur' 'Niger seed' 'Rice'\n",
      " 'Other  Rabi pulses' 'Onion' 'Niger seed' 'Castor seed'\n",
      " 'Moong(Green Gram)' 'Coconut ' 'Jute' 'Small millets' 'Sugarcane' 'Rice'\n",
      " 'Horse-gram' 'Arecanut' 'Mesta' 'Banana' 'Turmeric' 'Rice' 'Sannhamp'\n",
      " 'Arecanut' 'Onion' 'Rice' 'Sesamum' 'Tapioca' 'Ragi' 'Moong(Green Gram)'\n",
      " 'Rice' 'Tapioca' 'Tobacco' 'Coconut ' 'Rice' 'Moong(Green Gram)'\n",
      " 'Coconut ' 'Sesamum' 'Moong(Green Gram)' 'Gram' 'Arecanut' 'Rice' 'Rice'\n",
      " 'Rice' 'Tapioca' 'Onion' 'Wheat' 'Onion' 'Sugarcane' 'Arecanut' 'Mesta'\n",
      " 'Moong(Green Gram)' 'Sesamum' 'Mesta' 'Arhar/Tur' 'Arhar/Tur' 'Ragi'\n",
      " 'Onion' 'Arecanut' 'Onion' 'Arecanut' 'Ragi' 'Tapioca' 'Onion'\n",
      " 'Moong(Green Gram)' 'Moong(Green Gram)' 'Sesamum' 'Other  Rabi pulses']\n"
     ]
    }
   ],
   "source": [
    "print(flower_predictions)"
   ]
  },
  {
   "cell_type": "code",
   "execution_count": 35,
   "metadata": {},
   "outputs": [
    {
     "name": "stdout",
     "output_type": "stream",
     "text": [
      "[[0 0 0 ... 0 0 0]\n",
      " [1 0 0 ... 0 0 0]\n",
      " [0 0 0 ... 0 0 0]\n",
      " ...\n",
      " [0 0 0 ... 0 0 0]\n",
      " [0 1 0 ... 0 0 0]\n",
      " [0 0 0 ... 0 0 0]]\n"
     ]
    }
   ],
   "source": [
    "print(confusion_matrix(y_test, predictions))"
   ]
  },
  {
   "cell_type": "code",
   "execution_count": 36,
   "metadata": {},
   "outputs": [
    {
     "name": "stdout",
     "output_type": "stream",
     "text": [
      "              precision    recall  f1-score   support\n",
      "\n",
      "           0       0.00      0.00      0.00         5\n",
      "           1       0.00      0.00      0.00         3\n",
      "           2       0.00      0.00      0.00         3\n",
      "           3       0.00      0.00      0.00         3\n",
      "           4       0.00      0.00      0.00         1\n",
      "           5       0.00      0.00      0.00         2\n",
      "           6       0.00      0.00      0.00         2\n",
      "           7       0.00      0.00      0.00         2\n",
      "           8       0.00      0.00      0.00         2\n",
      "           9       1.00      1.00      1.00         4\n",
      "          10       0.00      0.00      0.00         1\n",
      "          11       0.00      0.00      0.00         4\n",
      "          12       0.00      0.00      0.00         4\n",
      "          13       0.00      0.00      0.00         1\n",
      "          14       0.00      0.00      0.00         2\n",
      "          15       0.00      0.00      0.00         2\n",
      "          16       0.50      0.25      0.33         4\n",
      "          17       0.33      0.50      0.40         2\n",
      "          18       0.00      0.00      0.00         3\n",
      "          19       0.00      0.00      0.00         2\n",
      "          20       0.00      0.00      0.00         1\n",
      "          21       0.00      0.00      0.00         2\n",
      "          22       0.00      0.00      0.00         4\n",
      "          23       0.00      0.00      0.00         1\n",
      "          24       0.00      0.00      0.00         3\n",
      "          25       0.09      0.33      0.14         3\n",
      "          26       0.00      0.00      0.00         2\n",
      "          27       0.00      0.00      0.00         2\n",
      "          28       0.00      0.00      0.00         2\n",
      "          29       0.00      0.00      0.00         1\n",
      "          30       0.00      0.00      0.00         1\n",
      "          31       0.00      0.00      0.00         3\n",
      "          32       0.12      0.25      0.17         4\n",
      "          33       0.00      0.00      0.00         3\n",
      "          34       0.25      0.36      0.30        11\n",
      "          35       0.00      0.00      0.00         1\n",
      "          36       0.00      0.00      0.00         1\n",
      "          37       0.00      0.00      0.00         4\n",
      "          38       0.00      0.00      0.00         3\n",
      "          39       0.00      0.00      0.00         2\n",
      "          40       0.00      0.00      0.00         4\n",
      "          41       0.00      0.00      0.00         1\n",
      "          42       0.00      0.00      0.00         2\n",
      "          43       0.00      0.00      0.00         3\n",
      "          44       0.00      0.00      0.00         2\n",
      "          45       0.00      0.00      0.00         3\n",
      "          46       0.00      0.00      0.00         2\n",
      "          47       0.00      0.00      0.00         2\n",
      "\n",
      "    accuracy                           0.10       125\n",
      "   macro avg       0.05      0.06      0.05       125\n",
      "weighted avg       0.08      0.10      0.08       125\n",
      "\n"
     ]
    },
    {
     "name": "stderr",
     "output_type": "stream",
     "text": [
      "C:\\Users\\admin\\AppData\\Roaming\\Python\\Python311\\site-packages\\sklearn\\metrics\\_classification.py:1565: UndefinedMetricWarning: Precision is ill-defined and being set to 0.0 in labels with no predicted samples. Use `zero_division` parameter to control this behavior.\n",
      "  _warn_prf(average, modifier, f\"{metric.capitalize()} is\", len(result))\n",
      "C:\\Users\\admin\\AppData\\Roaming\\Python\\Python311\\site-packages\\sklearn\\metrics\\_classification.py:1565: UndefinedMetricWarning: Precision is ill-defined and being set to 0.0 in labels with no predicted samples. Use `zero_division` parameter to control this behavior.\n",
      "  _warn_prf(average, modifier, f\"{metric.capitalize()} is\", len(result))\n",
      "C:\\Users\\admin\\AppData\\Roaming\\Python\\Python311\\site-packages\\sklearn\\metrics\\_classification.py:1565: UndefinedMetricWarning: Precision is ill-defined and being set to 0.0 in labels with no predicted samples. Use `zero_division` parameter to control this behavior.\n",
      "  _warn_prf(average, modifier, f\"{metric.capitalize()} is\", len(result))\n"
     ]
    }
   ],
   "source": [
    "print(classification_report(y_test, predictions))"
   ]
  },
  {
   "cell_type": "code",
   "execution_count": null,
   "metadata": {},
   "outputs": [],
   "source": []
  }
 ],
 "metadata": {
  "kernelspec": {
   "display_name": "Python 3 (ipykernel)",
   "language": "python",
   "name": "python3"
  },
  "language_info": {
   "codemirror_mode": {
    "name": "ipython",
    "version": 3
   },
   "file_extension": ".py",
   "mimetype": "text/x-python",
   "name": "python",
   "nbconvert_exporter": "python",
   "pygments_lexer": "ipython3",
   "version": "3.11.3"
  }
 },
 "nbformat": 4,
 "nbformat_minor": 2
}
